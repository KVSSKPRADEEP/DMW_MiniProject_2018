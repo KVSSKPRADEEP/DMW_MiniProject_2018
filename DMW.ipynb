{
  "nbformat": 4,
  "nbformat_minor": 0,
  "metadata": {
    "colab": {
      "name": "DMW.ipynb",
      "version": "0.3.2",
      "provenance": [],
      "collapsed_sections": [],
      "toc_visible": true
    },
    "kernelspec": {
      "name": "python3",
      "display_name": "Python 3"
    },
    "accelerator": "GPU"
  },
  "cells": [
    {
      "metadata": {
        "id": "o0JLD8ilIV0j",
        "colab_type": "code",
        "colab": {
          "base_uri": "https://localhost:8080/",
          "height": 34
        },
        "outputId": "1d252a36-c429-48cd-822b-a1efb8c8e87d"
      },
      "cell_type": "code",
      "source": [
        "from keras.models import Sequential\n",
        "from keras.layers import Dense\n",
        "from sklearn.metrics import confusion_matrix, accuracy_score\n",
        "from keras.models import Sequential\n",
        "from keras.layers import Dense\n",
        "def return_nn_classifier():\n",
        "        model = Sequential()\n",
        "        model.add(Dense(60, input_shape=(10,), activation='relu'))\n",
        "        model.add(Dense(60, activation='relu'))\n",
        "        model.add(Dense(60, activation='relu'))\n",
        "        model.add(Dense(1, activation='sigmoid'))\n",
        "        model.compile(optimizer='adam', loss='binary_crossentropy',\n",
        "                           metrics=['accuracy'])\n",
        "        return model"
      ],
      "execution_count": 1,
      "outputs": [
        {
          "output_type": "stream",
          "text": [
            "Using TensorFlow backend.\n"
          ],
          "name": "stderr"
        }
      ]
    },
    {
      "metadata": {
        "id": "dxvmxeDEpWx8",
        "colab_type": "code",
        "colab": {
          "base_uri": "https://localhost:8080/",
          "height": 442
        },
        "outputId": "2e1a74ba-e9fb-40fc-a7e7-594727777ba1"
      },
      "cell_type": "code",
      "source": [
        "import pandas as pd\n",
        "import numpy as np\n",
        "import matplotlib.pyplot as plt\n",
        "\n",
        "from sklearn.metrics import confusion_matrix, accuracy_score\n",
        "from sklearn.model_selection import train_test_split, KFold\n",
        "from sklearn.preprocessing import LabelEncoder, MinMaxScaler\n",
        "from keras.wrappers.scikit_learn import KerasClassifier\n",
        "from sklearn.svm import LinearSVC\n",
        "from sklearn.tree import DecisionTreeClassifier\n",
        "\n",
        "dataset = pd.read_csv(\"Churn_Modelling.csv\", sep=',')\n",
        "\n",
        "column_selector = ['CreditScore', 'Geography', 'Gender', 'Age', 'Tenure', 'Balance', 'NumOfProducts', 'HasCrCard',\n",
        "                   'IsActiveMember', 'EstimatedSalary', 'Exited']\n",
        "\n",
        "dataset = dataset[column_selector]\n",
        "\n",
        "#remove outlier\n",
        "def remove_outlier(feature):\n",
        "    first_q = np.percentile(dataset[feature],25)\n",
        "    third_q = np.percentile(dataset[feature],75)\n",
        "    IQR = third_q - first_q\n",
        "    IQR *= 1.5\n",
        "    minimum = first_q - IQR\n",
        "    maximum = third_q + IQR\n",
        "\n",
        "    mean = dataset[feature].median()\n",
        "\n",
        "    dataset.loc[dataset[feature] < minimum, feature] = mean\n",
        "    dataset.loc[dataset[feature] > maximum, feature] = mean\n",
        "\n",
        "outliers = [\"CreditScore\", \"Age\", \"NumOfProducts\"]\n",
        "\n",
        "for i in range(len(outliers)):\n",
        "    remove_outlier(outliers[i])\n",
        "\n",
        "#Scale data\n",
        "column_normalize_selector = ['CreditScore', 'Age', 'Balance', 'EstimatedSalary']\n",
        "scalar = MinMaxScaler()\n",
        "dataset[column_normalize_selector] = scalar.fit_transform(dataset[column_normalize_selector])\n",
        "\n",
        "\n",
        "# convert categorical to one hot\n",
        "le = LabelEncoder()\n",
        "dataset['Gender'] = le.fit_transform(dataset['Gender'])\n",
        "dataset['Geography'] = le.fit_transform(dataset['Geography'])\n",
        "\n",
        "print(dataset.head())\n",
        "\n",
        "X = dataset.iloc[:,:-1]\n",
        "y = dataset.iloc[:,-1]\n",
        "\n",
        "X_train, X_test, y_train, y_test = train_test_split(X,y,test_size=0.33)\n",
        "\n",
        "# Run three models\n",
        "\n",
        "model_DecisionTree = DecisionTreeClassifier()\n",
        "model_DecisionTree.fit(X_train, y_train)\n",
        "print(model_DecisionTree.score(X_test, y_test))\n",
        "print(\"Confusion matrix for decision tree: \")\n",
        "print(confusion_matrix(y_test, model_DecisionTree.predict(X_test)))\n",
        "\n",
        "\n",
        "model_LinearSVC = LinearSVC()\n",
        "model_LinearSVC.fit(X_train, y_train)\n",
        "print(model_LinearSVC.score(X_test, y_test))\n",
        "print(\"Confusion matrix for SVC : \")\n",
        "print(confusion_matrix(y_test, model_LinearSVC.predict(X_test)))\n",
        "\n",
        "model_NN = KerasClassifier(build_fn=return_nn_classifier, \n",
        "                                 epochs=100, \n",
        "                                 batch_size=10, \n",
        "                                 verbose=0)\n",
        "model_NN.fit(X_train, y_train)\n",
        "print(model_NN.score(X_test, y_test))\n",
        "print(\"Confusion matrix for NN : \")\n",
        "print(confusion_matrix(y_test, model_NN.predict(X_test)))\n",
        "\n"
      ],
      "execution_count": 2,
      "outputs": [
        {
          "output_type": "stream",
          "text": [
            "   CreditScore  Geography  Gender       Age  Tenure   Balance  NumOfProducts  \\\n",
            "0     0.505353          0       0  0.545455       2  0.000000            1.0   \n",
            "1     0.481799          2       0  0.522727       1  0.334031            1.0   \n",
            "2     0.254818          0       0  0.545455       8  0.636357            3.0   \n",
            "3     0.676660          0       0  0.477273       1  0.000000            2.0   \n",
            "4     1.000000          2       0  0.568182       2  0.500246            1.0   \n",
            "\n",
            "   HasCrCard  IsActiveMember  EstimatedSalary  Exited  \n",
            "0          1               1         0.506735       1  \n",
            "1          0               1         0.562709       0  \n",
            "2          1               0         0.569654       1  \n",
            "3          0               0         0.469120       0  \n",
            "4          1               1         0.395400       0  \n",
            "0.7824242424242425\n",
            "Confusion matrix for decision tree: \n",
            "[[2251  370]\n",
            " [ 348  331]]\n",
            "0.813939393939394\n",
            "Confusion matrix for SVC : \n",
            "[[2548   73]\n",
            " [ 541  138]]\n",
            "0.8048484818501906\n",
            "Confusion matrix for NN : \n",
            "[[2357  264]\n",
            " [ 380  299]]\n"
          ],
          "name": "stdout"
        }
      ]
    },
    {
      "metadata": {
        "id": "teXMcKDhSu-P",
        "colab_type": "code",
        "colab": {
          "base_uri": "https://localhost:8080/",
          "height": 361
        },
        "outputId": "edbb78d3-8bb2-442e-947f-7460178b17b5"
      },
      "cell_type": "code",
      "source": [
        "# draw accuracy plot\n",
        "\n",
        "accuracy_list = [model_DecisionTree.score(X_test, y_test), model_LinearSVC.score(X_test, y_test), \n",
        "                 model_NN.score(X_test, y_test)]\n",
        "label = ['Decision Tree', \"LinearSVC\", \"NN\"]\n",
        "plt.bar(np.arange(len(label)),accuracy_list)\n",
        "plt.xlabel(\"Classifiers\")\n",
        "plt.ylabel(\"Accuracy\")\n",
        "plt.xticks(np.arange(len(label)),label)\n",
        "plt.show()\n"
      ],
      "execution_count": 3,
      "outputs": [
        {
          "output_type": "display_data",
          "data": {
            "image/png": "[encoded data removed]",
            "text/plain": [
              "<matplotlib.figure.Figure at 0x7f9e299dce48>"
            ]
          },
          "metadata": {
            "tags": []
          }
        }
      ]
    },
    {
      "metadata": {
        "id": "4_p6WxxmW7He",
        "colab_type": "code",
        "colab": {}
      },
      "cell_type": "code",
      "source": [
        "\n",
        "k_fold_decision_tree_scores = []\n",
        "k_fold_nn_scores = []\n",
        "k_fold_SVC_scores = []\n",
        "\n",
        "# K-fold results\n",
        "kf = KFold(n_splits=5)\n",
        "for train_index, test_index in kf.split(X):\n",
        "  X_train, X_test = X.iloc[train_index], X.iloc[test_index]\n",
        "  y_train, y_test = y.iloc[train_index], y.iloc[test_index]\n",
        "  model_DecisionTree.fit(X_train, y_train)\n",
        "  k_fold_decision_tree_scores.append(model_DecisionTree.score(X_test, y_test))\n",
        "\n",
        "  model_LinearSVC.fit(X_train, y_train)\n",
        "  k_fold_SVC_scores.append(model_LinearSVC.score(X_test, y_test))\n",
        "  \n",
        "  \n",
        "  model_NN.fit(X_train, y_train)\n",
        "  k_fold_nn_scores.append(model_NN.score(X_test, y_test))\n",
        "\n"
      ],
      "execution_count": 0,
      "outputs": []
    },
    {
      "metadata": {
        "id": "vW3e8OLSW9kg",
        "colab_type": "code",
        "colab": {
          "base_uri": "https://localhost:8080/",
          "height": 347
        },
        "outputId": "7c5100f5-9d16-468b-9b88-97b1eaf886d0"
      },
      "cell_type": "code",
      "source": [
        "ax = plt.subplot(111)\n",
        "for i in range(len(k_fold_decision_tree_scores)):\n",
        "  ax.bar(i-0.3, k_fold_decision_tree_scores,width=0.2,color='b',align='center')\n",
        "for i in range(len(k_fold_nn_scores)):\n",
        "  ax.bar(i, k_fold_nn_scores,width=0.2,color='g',align='center')\n",
        "for i in range(len(k_fold_SVC_scores)):\n",
        "  ax.bar(i+0.3, k_fold_SVC_scores,width=0.2,color='r',align='center')\n",
        "\n",
        "plt.show()"
      ],
      "execution_count": 5,
      "outputs": [
        {
          "output_type": "display_data",
          "data": {
            "image/png": "[encoded data removed]",
            "text/plain": [
              "<matplotlib.figure.Figure at 0x7f9de24fd710>"
            ]
          },
          "metadata": {
            "tags": []
          }
        }
      ]
    },
    {
      "metadata": {
        "id": "i7gaAt_be4lH",
        "colab_type": "code",
        "colab": {}
      },
      "cell_type": "code",
      "source": [
        "# cross validation\n",
        "from sklearn.model_selection import cross_val_score\n",
        "\n",
        "cross_val_decision_tree = cross_val_score(model_DecisionTree, X, y, cv=5)\n",
        "cross_val_SVC = cross_val_score(model_LinearSVC, X, y, cv=5)\n",
        "cross_val_nn = cross_val_score(model_NN, X, y, cv=5)"
      ],
      "execution_count": 0,
      "outputs": []
    },
    {
      "metadata": {
        "id": "VkyM341envpc",
        "colab_type": "code",
        "colab": {
          "base_uri": "https://localhost:8080/",
          "height": 347
        },
        "outputId": "7e947f27-85e4-40dc-d250-5963717a8ea4"
      },
      "cell_type": "code",
      "source": [
        "ax = plt.subplot(111)\n",
        "for i in range(len(cross_val_decision_tree)):\n",
        "  ax.bar(i-0.3, cross_val_decision_tree,width=0.2,color='b',align='center')\n",
        "for i in range(len(cross_val_SVC)):\n",
        "  ax.bar(i, cross_val_SVC,width=0.2,color='g',align='center')\n",
        "for i in range(len(cross_val_nn)):\n",
        "  ax.bar(i+0.3, cross_val_nn,width=0.2,color='r',align='center')\n",
        "\n",
        "plt.show()"
      ],
      "execution_count": 79,
      "outputs": [
        {
          "output_type": "display_data",
          "data": {
            "image/png": "[encoded data removed]",
            "text/plain": [
              "<matplotlib.figure.Figure at 0x7f6ebe603390>"
            ]
          },
          "metadata": {
            "tags": []
          }
        }
      ]
    },
    {
      "metadata": {
        "id": "Vg38YsGJObcx",
        "colab_type": "code",
        "colab": {}
      },
      "cell_type": "code",
      "source": [
        "# precision recall and f-score\n",
        "from sklearn.metrics import precision_recall_fscore_support\n",
        "\n",
        "precision_decision_tree, recall_decision_tree, fscore_decision_tree, support_decision_tree = precision_recall_fscore_support(\n",
        "y_test, model_DecisionTree.predict(X_test), average = 'macro')\n",
        "print(recall_decision_tree)\n",
        "\n",
        "precision_SVC, recall_SVC, fscore_SVC, support_SVC = precision_recall_fscore_support(\n",
        "y_test, model_LinearSVC.predict(X_test), average = 'macro')\n",
        "print(recall_SVC)\n",
        "\n",
        "precision_NN, recall_NN, fscore_NN, support_NN = precision_recall_fscore_support(\n",
        "y_test, model_NN.predict(X_test), average = 'macro')\n",
        "print(recall_NN)\n"
      ],
      "execution_count": 0,
      "outputs": []
    },
    {
      "metadata": {
        "id": "VM0RtLkOd_PN",
        "colab_type": "code",
        "colab": {
          "base_uri": "https://localhost:8080/",
          "height": 361
        },
        "outputId": "6f3dcadc-c86a-47bf-b4a3-b29695f78cb9"
      },
      "cell_type": "code",
      "source": [
        "# precision plot\n",
        "precision_list = [precision_decision_tree,precision_SVC, precision_NN ]\n",
        "label = ['Decision Tree', \"LinearSVC\", \"NN\"]\n",
        "plt.bar(np.arange(len(label)),accuracy_list)\n",
        "plt.xlabel(\"Classifiers\")\n",
        "plt.ylabel(\"Precision\")\n",
        "plt.xticks(np.arange(len(label)),label)\n",
        "plt.show()\n"
      ],
      "execution_count": 90,
      "outputs": [
        {
          "output_type": "display_data",
          "data": {
            "image/png": "[encoded data removed]",
            "text/plain": [
              "<matplotlib.figure.Figure at 0x7f6ebdcd3898>"
            ]
          },
          "metadata": {
            "tags": []
          }
        }
      ]
    },
    {
      "metadata": {
        "id": "7iV6WjAZeVDu",
        "colab_type": "code",
        "colab": {
          "base_uri": "https://localhost:8080/",
          "height": 361
        },
        "outputId": "d0ccacfb-4db3-4567-f2f9-2a86b80a07d2"
      },
      "cell_type": "code",
      "source": [
        "# recall plot\n",
        "recall_list = [recall_decision_tree, recall_SVC, recall_NN ]\n",
        "label = ['Decision Tree', \"LinearSVC\", \"NN\"]\n",
        "plt.bar(np.arange(len(label)),recall_list)\n",
        "plt.xlabel(\"Classifiers\")\n",
        "plt.ylabel(\"Recall\")\n",
        "plt.xticks(np.arange(len(label)),label)\n",
        "plt.show()\n"
      ],
      "execution_count": 87,
      "outputs": [
        {
          "output_type": "display_data",
          "data": {
            "image/png": "[encoded data removed]",
            "text/plain": [
              "<matplotlib.figure.Figure at 0x7f6ebde32198>"
            ]
          },
          "metadata": {
            "tags": []
          }
        }
      ]
    },
    {
      "metadata": {
        "id": "Z0DnfuFveWmM",
        "colab_type": "code",
        "colab": {
          "base_uri": "https://localhost:8080/",
          "height": 361
        },
        "outputId": "c95979f3-0fd9-4b66-8f80-576eb2c627f4"
      },
      "cell_type": "code",
      "source": [
        "# fscore plot\n",
        "fscore_list = [fscore_decision_tree, fscore_SVC, fscore_NN ]\n",
        "label = ['Decision Tree', \"LinearSVC\", \"NN\"]\n",
        "plt.bar(np.arange(len(label)),fscore_list)\n",
        "plt.xlabel(\"Classifiers\")\n",
        "plt.ylabel(\"F-Score\")\n",
        "plt.xticks(np.arange(len(label)),label)\n",
        "plt.show()"
      ],
      "execution_count": 88,
      "outputs": [
        {
          "output_type": "display_data",
          "data": {
            "image/png": "[encoded data removed]",
            "text/plain": [
              "<matplotlib.figure.Figure at 0x7f6ebddff390>"
            ]
          },
          "metadata": {
            "tags": []
          }
        }
      ]
    }
  ]
}